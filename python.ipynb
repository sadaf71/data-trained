{
 "cells": [
  {
   "cell_type": "code",
   "execution_count": 1,
   "id": "14f96349",
   "metadata": {},
   "outputs": [
    {
     "data": {
      "text/plain": [
       "1"
      ]
     },
     "execution_count": 1,
     "metadata": {},
     "output_type": "execute_result"
    }
   ],
   "source": [
    "True+False"
   ]
  },
  {
   "cell_type": "code",
   "execution_count": 12,
   "id": "d3ca35cd",
   "metadata": {},
   "outputs": [
    {
     "name": "stdout",
     "output_type": "stream",
     "text": [
      "pythonis a powerfullanguage\n"
     ]
    },
    {
     "data": {
      "text/plain": [
       "str"
      ]
     },
     "execution_count": 12,
     "metadata": {},
     "output_type": "execute_result"
    }
   ],
   "source": [
    "first_string = 'python'\n",
    "second_string = 'is a powerful'\n",
    "third_string = 'language'\n",
    "print(first_string+second_string+third_string)\n",
    "type(first_string)"
   ]
  },
  {
   "cell_type": "code",
   "execution_count": 5,
   "id": "1041c7f3",
   "metadata": {},
   "outputs": [
    {
     "name": "stdout",
     "output_type": "stream",
     "text": [
      "pythonis a powerfullanguage\n"
     ]
    }
   ],
   "source": [
    "print(first_string+second_string+third_string)"
   ]
  },
  {
   "cell_type": "code",
   "execution_count": 35,
   "id": "83f1a182",
   "metadata": {},
   "outputs": [
    {
     "ename": "ModuleNotFoundError",
     "evalue": "No module named 'keywords'",
     "output_type": "error",
     "traceback": [
      "\u001b[1;31m---------------------------------------------------------------------------\u001b[0m",
      "\u001b[1;31mModuleNotFoundError\u001b[0m                       Traceback (most recent call last)",
      "\u001b[1;32m~\\AppData\\Local\\Temp\\ipykernel_3180\\3573812145.py\u001b[0m in \u001b[0;36m<module>\u001b[1;34m\u001b[0m\n\u001b[1;32m----> 1\u001b[1;33m \u001b[1;32mimport\u001b[0m \u001b[0mkeywords\u001b[0m\u001b[1;33m\u001b[0m\u001b[1;33m\u001b[0m\u001b[0m\n\u001b[0m\u001b[0;32m      2\u001b[0m \u001b[1;33m\u001b[0m\u001b[0m\n",
      "\u001b[1;31mModuleNotFoundError\u001b[0m: No module named 'keywords'"
     ]
    }
   ],
   "source": [
    "import keywords\n",
    "\n"
   ]
  },
  {
   "cell_type": "code",
   "execution_count": 6,
   "id": "b662ebfb",
   "metadata": {},
   "outputs": [
    {
     "data": {
      "text/plain": [
       "1"
      ]
     },
     "execution_count": 6,
     "metadata": {},
     "output_type": "execute_result"
    }
   ],
   "source": [
    "True+False"
   ]
  },
  {
   "cell_type": "code",
   "execution_count": 7,
   "id": "0e16f91e",
   "metadata": {},
   "outputs": [
    {
     "data": {
      "text/plain": [
       "3"
      ]
     },
     "execution_count": 7,
     "metadata": {},
     "output_type": "execute_result"
    }
   ],
   "source": [
    "True*3"
   ]
  },
  {
   "cell_type": "code",
   "execution_count": 9,
   "id": "67b4e254",
   "metadata": {},
   "outputs": [
    {
     "name": "stdout",
     "output_type": "stream",
     "text": [
      "************************************************************\n"
     ]
    }
   ],
   "source": [
    "print('*'*60)"
   ]
  },
  {
   "cell_type": "code",
   "execution_count": 10,
   "id": "90e88b0a",
   "metadata": {},
   "outputs": [
    {
     "data": {
      "text/plain": [
       "False"
      ]
     },
     "execution_count": 10,
     "metadata": {},
     "output_type": "execute_result"
    }
   ],
   "source": [
    "True is False"
   ]
  },
  {
   "cell_type": "code",
   "execution_count": 11,
   "id": "12517157",
   "metadata": {},
   "outputs": [
    {
     "data": {
      "text/plain": [
       "False"
      ]
     },
     "execution_count": 11,
     "metadata": {},
     "output_type": "execute_result"
    }
   ],
   "source": [
    "10==15"
   ]
  },
  {
   "cell_type": "code",
   "execution_count": 13,
   "id": "40bb84f8",
   "metadata": {},
   "outputs": [
    {
     "data": {
      "text/plain": [
       "['s', 'a', 'd', 'a', 'f']"
      ]
     },
     "execution_count": 13,
     "metadata": {},
     "output_type": "execute_result"
    }
   ],
   "source": [
    "list(\"sadaf\")"
   ]
  },
  {
   "cell_type": "code",
   "execution_count": 15,
   "id": "5cbd51b0",
   "metadata": {},
   "outputs": [
    {
     "data": {
      "text/plain": [
       "['1', '2', '3', '4']"
      ]
     },
     "execution_count": 15,
     "metadata": {},
     "output_type": "execute_result"
    }
   ],
   "source": [
    "list('1234')"
   ]
  },
  {
   "cell_type": "code",
   "execution_count": 16,
   "id": "fe3a189a",
   "metadata": {},
   "outputs": [
    {
     "name": "stdout",
     "output_type": "stream",
     "text": [
      "day2\n"
     ]
    }
   ],
   "source": [
    "print ('day'+\"2\")"
   ]
  },
  {
   "cell_type": "code",
   "execution_count": 2,
   "id": "828c77e3",
   "metadata": {},
   "outputs": [
    {
     "name": "stdout",
     "output_type": "stream",
     "text": [
      "25\n",
      "c\n",
      "c\n",
      "c\n",
      "c\n",
      "c\n",
      "c\n",
      "c\n",
      "c\n",
      "c\n",
      "\n"
     ]
    }
   ],
   "source": [
    "a=10\n",
    "b=15\n",
    "c=a+b\n",
    "print(c)\n",
    "print('c\\n'*9     )"
   ]
  },
  {
   "cell_type": "raw",
   "id": "4d1835f3",
   "metadata": {},
   "source": [
    "\n"
   ]
  },
  {
   "cell_type": "markdown",
   "id": "14f4b877",
   "metadata": {},
   "source": [
    "list"
   ]
  },
  {
   "cell_type": "code",
   "execution_count": 4,
   "id": "717faa64",
   "metadata": {},
   "outputs": [
    {
     "data": {
      "text/plain": [
       "[35, 45, 56, 67, 78, 89, 99]"
      ]
     },
     "execution_count": 4,
     "metadata": {},
     "output_type": "execute_result"
    }
   ],
   "source": [
    "marks = [35,45,56,67,78,89,99]\n",
    "marks"
   ]
  },
  {
   "cell_type": "code",
   "execution_count": 20,
   "id": "9e84b01e",
   "metadata": {},
   "outputs": [],
   "source": [
    "c_marks=marks.copy()"
   ]
  },
  {
   "cell_type": "code",
   "execution_count": 21,
   "id": "2a195f1e",
   "metadata": {},
   "outputs": [
    {
     "data": {
      "text/plain": [
       "[35, 45, 56, 67, 78, 89, 99]"
      ]
     },
     "execution_count": 21,
     "metadata": {},
     "output_type": "execute_result"
    }
   ],
   "source": [
    "c_marks"
   ]
  },
  {
   "cell_type": "code",
   "execution_count": 22,
   "id": "c4e89c37",
   "metadata": {},
   "outputs": [
    {
     "data": {
      "text/plain": [
       "[56, 67, 78]"
      ]
     },
     "execution_count": 22,
     "metadata": {},
     "output_type": "execute_result"
    }
   ],
   "source": [
    "marks[2:5]"
   ]
  },
  {
   "cell_type": "code",
   "execution_count": 23,
   "id": "e35caf83",
   "metadata": {},
   "outputs": [
    {
     "data": {
      "text/plain": [
       "[35, 45, 56, 67, 78]"
      ]
     },
     "execution_count": 23,
     "metadata": {},
     "output_type": "execute_result"
    }
   ],
   "source": [
    "marks[ :5]"
   ]
  },
  {
   "cell_type": "code",
   "execution_count": 6,
   "id": "25e3e4f5",
   "metadata": {},
   "outputs": [
    {
     "data": {
      "text/plain": [
       "[35, 45, 56, 67, 78, 89, 99, 43, 43]"
      ]
     },
     "execution_count": 6,
     "metadata": {},
     "output_type": "execute_result"
    }
   ],
   "source": [
    "marks.append(43)\n",
    "marks"
   ]
  },
  {
   "cell_type": "code",
   "execution_count": 7,
   "id": "a631ef75",
   "metadata": {},
   "outputs": [
    {
     "data": {
      "text/plain": [
       "[35, 45, 56, 67, 78, 89, 99, 43]"
      ]
     },
     "execution_count": 7,
     "metadata": {},
     "output_type": "execute_result"
    }
   ],
   "source": [
    "marks.pop()\n",
    "marks"
   ]
  },
  {
   "cell_type": "raw",
   "id": "b4b1071c",
   "metadata": {},
   "source": [
    "marks"
   ]
  },
  {
   "cell_type": "code",
   "execution_count": 8,
   "id": "d87145f9",
   "metadata": {},
   "outputs": [],
   "source": [
    "marks .extend([54,52,57])"
   ]
  },
  {
   "cell_type": "code",
   "execution_count": 9,
   "id": "cb749f9e",
   "metadata": {},
   "outputs": [
    {
     "data": {
      "text/plain": [
       "[35, 45, 56, 67, 78, 89, 99, 43, 54, 52, 57]"
      ]
     },
     "execution_count": 9,
     "metadata": {},
     "output_type": "execute_result"
    }
   ],
   "source": [
    "marks"
   ]
  },
  {
   "cell_type": "code",
   "execution_count": 10,
   "id": "631662e3",
   "metadata": {},
   "outputs": [
    {
     "data": {
      "text/plain": [
       "1"
      ]
     },
     "execution_count": 10,
     "metadata": {},
     "output_type": "execute_result"
    }
   ],
   "source": [
    "marks.count(57)"
   ]
  },
  {
   "cell_type": "code",
   "execution_count": 11,
   "id": "cd46ffe0",
   "metadata": {},
   "outputs": [
    {
     "data": {
      "text/plain": [
       "3"
      ]
     },
     "execution_count": 11,
     "metadata": {},
     "output_type": "execute_result"
    }
   ],
   "source": [
    "marks.index(67)"
   ]
  },
  {
   "cell_type": "code",
   "execution_count": 12,
   "id": "48391b19",
   "metadata": {},
   "outputs": [],
   "source": [
    "marks.remove(57)"
   ]
  },
  {
   "cell_type": "code",
   "execution_count": 13,
   "id": "cb88767c",
   "metadata": {},
   "outputs": [
    {
     "data": {
      "text/plain": [
       "[35, 45, 56, 67, 78, 89, 99, 43, 54, 52]"
      ]
     },
     "execution_count": 13,
     "metadata": {},
     "output_type": "execute_result"
    }
   ],
   "source": [
    "marks"
   ]
  },
  {
   "cell_type": "code",
   "execution_count": 14,
   "id": "81e9cdc0",
   "metadata": {},
   "outputs": [
    {
     "data": {
      "text/plain": [
       "[99, 89, 78, 67, 56, 54, 52, 45, 43, 35]"
      ]
     },
     "execution_count": 14,
     "metadata": {},
     "output_type": "execute_result"
    }
   ],
   "source": [
    "marks.sort()\n",
    "marks\n",
    "marks.reverse()\n",
    "marks"
   ]
  },
  {
   "cell_type": "code",
   "execution_count": 15,
   "id": "bd589045",
   "metadata": {},
   "outputs": [
    {
     "data": {
      "text/plain": [
       "[99, 89, 78, 67, 56, 54, 52, 45, 43, 35]"
      ]
     },
     "execution_count": 15,
     "metadata": {},
     "output_type": "execute_result"
    }
   ],
   "source": [
    "marks.sort(reverse=1)\n",
    "marks"
   ]
  },
  {
   "cell_type": "code",
   "execution_count": 16,
   "id": "f99943a8",
   "metadata": {},
   "outputs": [
    {
     "data": {
      "text/plain": [
       "[99, 89, 78, 53, 67, 56, 54, 52, 45, 43, 35]"
      ]
     },
     "execution_count": 16,
     "metadata": {},
     "output_type": "execute_result"
    }
   ],
   "source": [
    "marks.insert(3,53)\n",
    "marks"
   ]
  },
  {
   "cell_type": "code",
   "execution_count": 17,
   "id": "75a9d36c",
   "metadata": {},
   "outputs": [
    {
     "data": {
      "text/plain": [
       "11"
      ]
     },
     "execution_count": 17,
     "metadata": {},
     "output_type": "execute_result"
    }
   ],
   "source": [
    "len(marks)"
   ]
  },
  {
   "cell_type": "code",
   "execution_count": 18,
   "id": "6b0a2539",
   "metadata": {},
   "outputs": [
    {
     "data": {
      "text/plain": [
       "False"
      ]
     },
     "execution_count": 18,
     "metadata": {},
     "output_type": "execute_result"
    }
   ],
   "source": [
    "35 in marks\n",
    "11 in marks\n",
    "34 in marks"
   ]
  },
  {
   "cell_type": "code",
   "execution_count": 19,
   "id": "1cbfdac3",
   "metadata": {},
   "outputs": [
    {
     "data": {
      "text/plain": [
       "False"
      ]
     },
     "execution_count": 19,
     "metadata": {},
     "output_type": "execute_result"
    }
   ],
   "source": [
    "(89,99,76) in marks"
   ]
  },
  {
   "cell_type": "code",
   "execution_count": 3,
   "id": "e4028116",
   "metadata": {},
   "outputs": [
    {
     "name": "stdout",
     "output_type": "stream",
     "text": [
      "25\n",
      "30\n",
      "45\n",
      "39\n",
      "28\n"
     ]
    }
   ],
   "source": [
    "x =[20,25,30,45,89,39,100,28]\n",
    "for no in x:\n",
    "    if no>=25 and no<=60:\n",
    "        print(no)\n",
    "       \n",
    "            "
   ]
  },
  {
   "cell_type": "code",
   "execution_count": null,
   "id": "972a24c9",
   "metadata": {},
   "outputs": [],
   "source": [
    "Dictionary"
   ]
  },
  {
   "cell_type": "code",
   "execution_count": 22,
   "id": "6a17345e",
   "metadata": {},
   "outputs": [
    {
     "data": {
      "text/plain": [
       "['computer', 'science', 'maths']"
      ]
     },
     "execution_count": 22,
     "metadata": {},
     "output_type": "execute_result"
    }
   ],
   "source": [
    "my_dict={'roll_no':123,'marks':[12,23,33],'subject':['computer','science','maths']}\n",
    "my_dict['subject']"
   ]
  },
  {
   "cell_type": "code",
   "execution_count": 23,
   "id": "1206f2ea",
   "metadata": {},
   "outputs": [
    {
     "data": {
      "text/plain": [
       "'maths'"
      ]
     },
     "execution_count": 23,
     "metadata": {},
     "output_type": "execute_result"
    }
   ],
   "source": [
    "my_dict['subject'][2]"
   ]
  },
  {
   "cell_type": "code",
   "execution_count": 25,
   "id": "957e7192",
   "metadata": {},
   "outputs": [
    {
     "data": {
      "text/plain": [
       "'SCIENCE'"
      ]
     },
     "execution_count": 25,
     "metadata": {},
     "output_type": "execute_result"
    }
   ],
   "source": [
    "my_dict['subject'][1].upper()"
   ]
  },
  {
   "cell_type": "code",
   "execution_count": 26,
   "id": "9278cd77",
   "metadata": {},
   "outputs": [
    {
     "data": {
      "text/plain": [
       "[12, 23, 63]"
      ]
     },
     "execution_count": 26,
     "metadata": {},
     "output_type": "execute_result"
    }
   ],
   "source": [
    "my_dict['marks'][2]+= 30\n",
    "my_dict['marks']"
   ]
  },
  {
   "cell_type": "code",
   "execution_count": 27,
   "id": "95feb4e4",
   "metadata": {},
   "outputs": [
    {
     "data": {
      "text/plain": [
       "{'roll_no': 123,\n",
       " 'marks': [12, 23, 63],\n",
       " 'subject': ['computer', 'science', 'maths'],\n",
       " 'year': '4th'}"
      ]
     },
     "execution_count": 27,
     "metadata": {},
     "output_type": "execute_result"
    }
   ],
   "source": [
    "my_dict['year']='4th'\n",
    "my_dict"
   ]
  },
  {
   "cell_type": "code",
   "execution_count": 30,
   "id": "3ce80db5",
   "metadata": {},
   "outputs": [
    {
     "data": {
      "text/plain": [
       "{'roll_no': 154,\n",
       " 'marks': [12, 23, 63],\n",
       " 'subject': ['computer', 'science', 'maths'],\n",
       " 'year': '4th'}"
      ]
     },
     "execution_count": 30,
     "metadata": {},
     "output_type": "execute_result"
    }
   ],
   "source": [
    "my_dict.update({'roll_no': 154})\n",
    "my_dict"
   ]
  },
  {
   "cell_type": "code",
   "execution_count": 31,
   "id": "ca24b804",
   "metadata": {},
   "outputs": [
    {
     "data": {
      "text/plain": [
       "dict_keys(['roll_no', 'marks', 'subject', 'year'])"
      ]
     },
     "execution_count": 31,
     "metadata": {},
     "output_type": "execute_result"
    }
   ],
   "source": [
    "my_dict.keys()"
   ]
  },
  {
   "cell_type": "code",
   "execution_count": 33,
   "id": "12576f7c",
   "metadata": {},
   "outputs": [
    {
     "data": {
      "text/plain": [
       "dict_values([154, [12, 23, 63], ['computer', 'science', 'maths'], '4th'])"
      ]
     },
     "execution_count": 33,
     "metadata": {},
     "output_type": "execute_result"
    }
   ],
   "source": [
    "my_dict.values()"
   ]
  },
  {
   "cell_type": "code",
   "execution_count": 34,
   "id": "b85e8b0c",
   "metadata": {},
   "outputs": [
    {
     "data": {
      "text/plain": [
       "dict_items([('roll_no', 154), ('marks', [12, 23, 63]), ('subject', ['computer', 'science', 'maths']), ('year', '4th')])"
      ]
     },
     "execution_count": 34,
     "metadata": {},
     "output_type": "execute_result"
    }
   ],
   "source": [
    "my_dict.items()"
   ]
  },
  {
   "cell_type": "code",
   "execution_count": null,
   "id": "01651e9c",
   "metadata": {},
   "outputs": [],
   "source": [
    "branching if -else"
   ]
  },
  {
   "cell_type": "code",
   "execution_count": 41,
   "id": "cd7628b9",
   "metadata": {},
   "outputs": [
    {
     "name": "stdout",
     "output_type": "stream",
     "text": [
      "please add 185 amount of an item for free delivery\n"
     ]
    }
   ],
   "source": [
    "item_1= 300\n",
    "item_2= 15\n",
    "if (item_1+ item_2)>=500:\n",
    "    print('your item is elegible for free delivery')\n",
    "else:\n",
    "    extra=500-(item_1+item_2)\n",
    "    print('please add', extra, 'amount of an item for free delivery')"
   ]
  },
  {
   "cell_type": "code",
   "execution_count": 59,
   "id": "894f667e",
   "metadata": {},
   "outputs": [
    {
     "name": "stdout",
     "output_type": "stream",
     "text": [
      "marks- pass\n",
      "marks- first class\n",
      "marks- first class\n",
      "marks- fail-better luck next time\n",
      "marks- Distinction\n",
      "marks- Distinction\n",
      "marks- second class\n"
     ]
    }
   ],
   "source": [
    "student_marks=[45,66,65,30,89,99,55]\n",
    "for marks in student_marks:\n",
    "    if marks >= 60:\n",
    "        if marks > 70:\n",
    "            print('marks-','Distinction')\n",
    "        else:\n",
    "            print('marks-','first class')\n",
    "    elif marks > 50 and marks < 60:\n",
    "         print('marks-','second class')\n",
    "    elif marks>= 35:\n",
    "        print('marks-','pass')\n",
    "    else:\n",
    "        print('marks-',\"fail-better luck next time\")\n",
    "            "
   ]
  },
  {
   "cell_type": "code",
   "execution_count": null,
   "id": "5744ff62",
   "metadata": {},
   "outputs": [],
   "source": [
    "RANGE"
   ]
  },
  {
   "cell_type": "code",
   "execution_count": 60,
   "id": "3585c768",
   "metadata": {},
   "outputs": [
    {
     "name": "stdout",
     "output_type": "stream",
     "text": [
      "[0, 1, 2, 3, 4, 5, 6, 7, 8, 9]\n"
     ]
    }
   ],
   "source": [
    "print(list(range(10)))"
   ]
  },
  {
   "cell_type": "code",
   "execution_count": 61,
   "id": "ca4b9780",
   "metadata": {},
   "outputs": [
    {
     "data": {
      "text/plain": [
       "[100, 130, 160, 190, 220, 250, 280, 310, 340, 370]"
      ]
     },
     "execution_count": 61,
     "metadata": {},
     "output_type": "execute_result"
    }
   ],
   "source": [
    "list(range(100,400,30))"
   ]
  },
  {
   "cell_type": "code",
   "execution_count": 63,
   "id": "0b71e6fa",
   "metadata": {},
   "outputs": [
    {
     "data": {
      "text/plain": [
       "[500,\n",
       " 475,\n",
       " 450,\n",
       " 425,\n",
       " 400,\n",
       " 375,\n",
       " 350,\n",
       " 325,\n",
       " 300,\n",
       " 275,\n",
       " 250,\n",
       " 225,\n",
       " 200,\n",
       " 175,\n",
       " 150,\n",
       " 125,\n",
       " 100,\n",
       " 75,\n",
       " 50,\n",
       " 25,\n",
       " 0]"
      ]
     },
     "execution_count": 63,
     "metadata": {},
     "output_type": "execute_result"
    }
   ],
   "source": [
    "list(range(500,-5,-25))"
   ]
  },
  {
   "cell_type": "code",
   "execution_count": 77,
   "id": "c1e0f1d5",
   "metadata": {},
   "outputs": [
    {
     "name": "stdout",
     "output_type": "stream",
     "text": [
      "multiplication of 2\n",
      "2\n",
      "4\n",
      "6\n",
      "8\n",
      "10\n",
      "12\n",
      "14\n",
      "16\n",
      "18\n",
      "20\n",
      "\n",
      "\n",
      "multiplication of 3\n",
      "3\n",
      "6\n",
      "9\n",
      "12\n",
      "15\n",
      "18\n",
      "21\n",
      "24\n",
      "27\n",
      "30\n",
      "\n",
      "\n",
      "multiplication of 4\n",
      "4\n",
      "8\n",
      "12\n",
      "16\n",
      "20\n",
      "24\n",
      "28\n",
      "32\n",
      "36\n",
      "40\n",
      "\n",
      "\n",
      "**********\n",
      "end of table\n"
     ]
    }
   ],
   "source": [
    "for num in range(2,5):\n",
    "    print('multiplication of', num)\n",
    "    for i in range(1,11):\n",
    "        print( num*i)\n",
    "        if i==10:\n",
    "            print(\"\\n\")\n",
    "else:\n",
    "    print ('*'*10)\n",
    "    print('end of table')"
   ]
  },
  {
   "cell_type": "code",
   "execution_count": null,
   "id": "890863a0",
   "metadata": {},
   "outputs": [],
   "source": [
    "WHILE LOOP"
   ]
  },
  {
   "cell_type": "code",
   "execution_count": 78,
   "id": "9aa96b93",
   "metadata": {},
   "outputs": [
    {
     "name": "stdout",
     "output_type": "stream",
     "text": [
      "time.struct_time(tm_year=2023, tm_mon=4, tm_mday=27, tm_hour=20, tm_min=11, tm_sec=20, tm_wday=3, tm_yday=117, tm_isdst=0)\n"
     ]
    }
   ],
   "source": [
    "import time\n",
    "result= time.localtime()\n",
    "print(result)"
   ]
  },
  {
   "cell_type": "code",
   "execution_count": 79,
   "id": "f07aa127",
   "metadata": {},
   "outputs": [
    {
     "name": "stdout",
     "output_type": "stream",
     "text": [
      "wake up sweeti\n"
     ]
    }
   ],
   "source": [
    "while True:\n",
    "    result = time.localtime()\n",
    "    if result.tm_min==14 and result.tm_hour==20:\n",
    "        print('wake up sweeti')\n",
    "        break"
   ]
  },
  {
   "cell_type": "code",
   "execution_count": 84,
   "id": "8ffd246b",
   "metadata": {},
   "outputs": [
    {
     "name": "stdout",
     "output_type": "stream",
     "text": [
      "(0, 'sadaf')\n",
      "(1, 'tabshir')\n",
      "(2, 'sufiyan')\n",
      "(3, 'shavez')\n",
      "(4, 'rinky')\n",
      "(5, 'suffu')\n"
     ]
    }
   ],
   "source": [
    "stu=['sadaf','tabshir','sufiyan','shavez','rinky','suffu']\n",
    "for name in enumerate(stu):\n",
    "    print(name)\n"
   ]
  },
  {
   "cell_type": "code",
   "execution_count": 88,
   "id": "496fd285",
   "metadata": {},
   "outputs": [
    {
     "name": "stdout",
     "output_type": "stream",
     "text": [
      "(200, 'sadaf')\n",
      "(201, 'tabshir')\n",
      "(202, 'sufiyan')\n",
      "(203, 'shavez')\n",
      "(204, 'rinky')\n",
      "(205, 'suffu')\n"
     ]
    }
   ],
   "source": [
    "for name in enumerate(stu,200):\n",
    "    print(name)"
   ]
  },
  {
   "cell_type": "code",
   "execution_count": null,
   "id": "2be1c759",
   "metadata": {},
   "outputs": [],
   "source": [
    "ZIP & UNZIP"
   ]
  },
  {
   "cell_type": "code",
   "execution_count": 97,
   "id": "ec4f3f73",
   "metadata": {},
   "outputs": [
    {
     "data": {
      "text/plain": [
       "[('sadaf', 99),\n",
       " ('tabshir', 98),\n",
       " ('sufiyan', 99),\n",
       " ('shavez', 89),\n",
       " ('rinky', 98),\n",
       " ('suffu', 90)]"
      ]
     },
     "execution_count": 97,
     "metadata": {},
     "output_type": "execute_result"
    }
   ],
   "source": [
    "stu=['sadaf','tabshir','sufiyan','shavez','rinky','suffu']\n",
    "marks=[99,98,99,89,98,90,91,92]\n",
    "stu_details=list(zip(stu,marks))\n",
    "stu_details"
   ]
  },
  {
   "cell_type": "code",
   "execution_count": null,
   "id": "ab75db3b",
   "metadata": {},
   "outputs": [],
   "source": [
    "UNZIP"
   ]
  },
  {
   "cell_type": "code",
   "execution_count": 98,
   "id": "7ea0d7fc",
   "metadata": {},
   "outputs": [],
   "source": [
    "stu,marks =zip(*stu_details)"
   ]
  },
  {
   "cell_type": "code",
   "execution_count": 102,
   "id": "7efb81fd",
   "metadata": {},
   "outputs": [
    {
     "data": {
      "text/plain": [
       "('sadaf', 'tabshir', 'sufiyan', 'shavez', 'rinky', 'suffu')"
      ]
     },
     "execution_count": 102,
     "metadata": {},
     "output_type": "execute_result"
    }
   ],
   "source": [
    "stu\n"
   ]
  },
  {
   "cell_type": "raw",
   "id": "dc12798f",
   "metadata": {},
   "source": []
  },
  {
   "cell_type": "code",
   "execution_count": 103,
   "id": "b911f29d",
   "metadata": {},
   "outputs": [
    {
     "data": {
      "text/plain": [
       "(99, 98, 99, 89, 98, 90)"
      ]
     },
     "execution_count": 103,
     "metadata": {},
     "output_type": "execute_result"
    }
   ],
   "source": [
    "marks"
   ]
  },
  {
   "cell_type": "markdown",
   "id": "7db5c544",
   "metadata": {},
   "source": []
  },
  {
   "cell_type": "code",
   "execution_count": null,
   "id": "9177b3b4",
   "metadata": {},
   "outputs": [],
   "source": [
    "BREAK AND CONTINUE"
   ]
  },
  {
   "cell_type": "code",
   "execution_count": 90,
   "id": "9abd51d0",
   "metadata": {},
   "outputs": [
    {
     "name": "stdout",
     "output_type": "stream",
     "text": [
      "sadaf\n",
      "tabshir\n",
      "sufiyan\n",
      "shavez\n"
     ]
    }
   ],
   "source": [
    "stu=['sadaf','tabshir','sufiyan','shavez','rinky','suffu']\n",
    "for name in stu:\n",
    "    if name ==\"rinky\":\n",
    "        break\n",
    "    print(name)"
   ]
  },
  {
   "cell_type": "code",
   "execution_count": 91,
   "id": "e42f9088",
   "metadata": {},
   "outputs": [
    {
     "name": "stdout",
     "output_type": "stream",
     "text": [
      "sadaf\n",
      "tabshir\n",
      "sufiyan\n",
      "shavez\n",
      "suffu\n"
     ]
    }
   ],
   "source": [
    "stu=['sadaf','tabshir','sufiyan','shavez','rinky','suffu']\n",
    "for name in stu:\n",
    "    if name ==\"rinky\":\n",
    "        continue\n",
    "    print(name)"
   ]
  },
  {
   "cell_type": "code",
   "execution_count": null,
   "id": "e44dd6f1",
   "metadata": {},
   "outputs": [],
   "source": [
    "FUNCTIONS"
   ]
  },
  {
   "cell_type": "code",
   "execution_count": 104,
   "id": "1513a774",
   "metadata": {},
   "outputs": [
    {
     "name": "stdout",
     "output_type": "stream",
     "text": [
      "hello good morning\n"
     ]
    }
   ],
   "source": [
    "def greeting(name):\n",
    "    print('hello',name)\n",
    "greeting('good morning')"
   ]
  },
  {
   "cell_type": "code",
   "execution_count": 109,
   "id": "c3e6c083",
   "metadata": {},
   "outputs": [],
   "source": [
    "def salary_incr(fixed_salary,house_rent):\n",
    "    total_salary=(fixed_salary + house_rent)\n",
    "    if total_salary>=7000:\n",
    "        return total_salary+2000\n",
    "    else:\n",
    "        return total_salary"
   ]
  },
  {
   "cell_type": "code",
   "execution_count": 110,
   "id": "a86a9d5c",
   "metadata": {},
   "outputs": [
    {
     "name": "stdout",
     "output_type": "stream",
     "text": [
      "your new salary= 11700\n"
     ]
    }
   ],
   "source": [
    "print(\"your new salary=\",salary_incr(4700,5000))"
   ]
  },
  {
   "cell_type": "code",
   "execution_count": 14,
   "id": "16fe7db2",
   "metadata": {},
   "outputs": [
    {
     "name": "stdout",
     "output_type": "stream",
     "text": [
      "enter car brand?honda amaze\n",
      "enter km driven?14000\n",
      "enter manufacturing year?2021\n",
      "('2021', 'honda amaze', '14000')\n"
     ]
    }
   ],
   "source": [
    "def used_car_price(car_year,car_brand,kmeters):\n",
    "    if car_year == 2020:\n",
    "        if 10000<kmeters<=15000:\n",
    "            if car_brand=='honda amaze':\n",
    "                print('690000 -750000')\n",
    "            elif car_brand == 'hyundai creta':\n",
    "                print('94500-108000')\n",
    "            else:\n",
    "                print('no stock right now, please visit after few days')\n",
    "        elif 15001<kmeters<=25000:\n",
    "            if car_brand =='honda amaze':\n",
    "                print('550000-600000')\n",
    "            elif car_brand ==\"hyundai creta\":\n",
    "                print('845000-980000')\n",
    "            else:\n",
    "                print('no stock right now, please visit after few days')\n",
    "        else:\n",
    "            print('no stocks')\n",
    "    elif car_year ==2021:\n",
    "        if 10000<kmeters<=15000:\n",
    "            if car_brand=='honda amaze':\n",
    "                print('790000-850000')\n",
    "            elif car_brand=='hyundai creta':\n",
    "                print('1045000-1180000')\n",
    "            else:\n",
    "                print('no stock right now, please visit after few days')\n",
    "        else:\n",
    "            print('no stock right now, please visit after few days')\n",
    "    else: \n",
    "        print('sorry , we dont keep car older than 2020')\n",
    "        \n",
    "car_brand=input('enter car brand?')\n",
    "kmeters=input('enter km driven?')\n",
    "car_year=input('enter manufacturing year?')\n",
    "used_car_price=(car_year,car_brand,kmeters)\n",
    "print(used_car_price)\n",
    "        \n",
    "            \n",
    "                   \n",
    "                  \n",
    "                  \n",
    "                  \n",
    "                  \n",
    "                  "
   ]
  },
  {
   "cell_type": "code",
   "execution_count": 6,
   "id": "b0b24286",
   "metadata": {},
   "outputs": [
    {
     "name": "stdout",
     "output_type": "stream",
     "text": [
      "1045000-1180000\n"
     ]
    }
   ],
   "source": [
    "used_car_price(2021,'hyundai creta',14000)"
   ]
  },
  {
   "cell_type": "code",
   "execution_count": 3,
   "id": "60d4cfea",
   "metadata": {},
   "outputs": [
    {
     "name": "stdout",
     "output_type": "stream",
     "text": [
      "550000-600000\n"
     ]
    }
   ],
   "source": [
    "used_car_price(2020,'honda amaze',23000)"
   ]
  },
  {
   "cell_type": "code",
   "execution_count": null,
   "id": "a046f738",
   "metadata": {},
   "outputs": [],
   "source": [
    "kwarg**"
   ]
  },
  {
   "cell_type": "code",
   "execution_count": 4,
   "id": "816cce33",
   "metadata": {},
   "outputs": [],
   "source": [
    "def my(**kwargs):\n",
    "    for key,value in kwargs.items():\n",
    "        print(value,end=\" \")\n",
    "        "
   ]
  },
  {
   "cell_type": "code",
   "execution_count": 7,
   "id": "07577ad2",
   "metadata": {},
   "outputs": [
    {
     "name": "stdout",
     "output_type": "stream",
     "text": [
      "['sadaf', 'sufiyan'] [99, 98] "
     ]
    }
   ],
   "source": [
    "my(student=[\"sadaf\",\"sufiyan\"],marks=[99,98,])"
   ]
  },
  {
   "cell_type": "markdown",
   "id": "4349c0dc",
   "metadata": {},
   "source": [
    "# MAP_FILTER"
   ]
  },
  {
   "cell_type": "code",
   "execution_count": 2,
   "id": "ed246071",
   "metadata": {},
   "outputs": [
    {
     "name": "stdout",
     "output_type": "stream",
     "text": [
      "[45, 35, 31, 35, 15, 36, 89]\n"
     ]
    }
   ],
   "source": [
    "def grace(marks):\n",
    "    if marks==32:\n",
    "        return (marks+3)\n",
    "    elif marks ==33:\n",
    "        return(marks+2)\n",
    "    elif marks==34:\n",
    "        return(marks+1)\n",
    "    else:\n",
    "        return marks\n",
    "score=[45,32,31,33,15,36,89]\n",
    "print(list(map(grace,score)))"
   ]
  },
  {
   "cell_type": "markdown",
   "id": "8cd70d4c",
   "metadata": {},
   "source": [
    "# USER input"
   ]
  },
  {
   "cell_type": "code",
   "execution_count": 10,
   "id": "07910548",
   "metadata": {},
   "outputs": [
    {
     "name": "stdout",
     "output_type": "stream",
     "text": [
      "enter maths marks?:99\n",
      "enter science marks?:98\n",
      "total 197\n"
     ]
    }
   ],
   "source": [
    "maths=int(input('enter maths marks?:'))\n",
    "science=int(input('enter science marks?:'))\n",
    "total=maths+science\n",
    "print('total',total)"
   ]
  },
  {
   "cell_type": "code",
   "execution_count": 1,
   "id": "67a9c082",
   "metadata": {},
   "outputs": [
    {
     "name": "stdout",
     "output_type": "stream",
     "text": [
      "enter your name?:sadaf\n",
      "Alphabet sadaf\n"
     ]
    }
   ],
   "source": [
    "name= input('enter your name?:')\n",
    "if name.isalpha():\n",
    "    print('Alphabet',name)\n",
    "else:\n",
    "    print('enter only alphabet')"
   ]
  },
  {
   "cell_type": "markdown",
   "id": "d906b052",
   "metadata": {},
   "source": [
    "# try and except"
   ]
  },
  {
   "cell_type": "code",
   "execution_count": 3,
   "id": "4a9cddfc",
   "metadata": {},
   "outputs": [],
   "source": [
    "def mob_no():\n",
    "    while True:\n",
    "        val= int(input('enter mobile number?'))\n",
    "        try:\n",
    "            if len(str( val))!=10:\n",
    "                print('plz enter 10 digit no')\n",
    "                continue\n",
    "            else:\n",
    "                print('thank you')\n",
    "        except:\n",
    "            print(\"looks like u do not enter a valid no\")\n",
    "        finally:\n",
    "            print(\"user entered\",val)\n",
    "                \n",
    "                "
   ]
  },
  {
   "cell_type": "markdown",
   "id": "2e10ed3a",
   "metadata": {},
   "source": [
    "# inheritance"
   ]
  },
  {
   "cell_type": "code",
   "execution_count": null,
   "id": "91aad608",
   "metadata": {},
   "outputs": [],
   "source": [
    "mob_no(\n"
   ]
  },
  {
   "cell_type": "code",
   "execution_count": 14,
   "id": "2f06482c",
   "metadata": {},
   "outputs": [
    {
     "name": "stdout",
     "output_type": "stream",
     "text": [
      "enter your namesadaf\n",
      "enter last nameshamim\n",
      "enter city nameriyadh\n",
      "enter preffered user idsadaf12\n",
      "choose your password1234\n",
      "enter phone no123456\n"
     ]
    }
   ],
   "source": [
    "class Account:\n",
    "    def __init__(self,\n",
    "                name     =input('enter your name'),\n",
    "                last_name =input('enter last name'),\n",
    "                city     =input('enter city name')\n",
    "                ,user_id =input('enter preffered user id'),\n",
    "                password =input('choose your password'),\n",
    "                phone    =input('enter phone no')):\n",
    "  \n",
    "\n",
    "        self.name      = name\n",
    "        self.last_name = last_name\n",
    "        self.city      = city\n",
    "        self.user_id   = user_id\n",
    "        self.password  = password\n",
    "        self.phone     = phone\n",
    "    def login(self):\n",
    "        while True:\n",
    "            signin= input('email id')\n",
    "            password=input('password')\n",
    "            if signin == self.user_id and password ==self.password:\n",
    "                print('successfully logged in')\n",
    "                break\n",
    "            else:\n",
    "                print('user id and password invalid')\n",
    "                continue\n",
    "    \n",
    "    "
   ]
  },
  {
   "cell_type": "code",
   "execution_count": 15,
   "id": "c960c9e7",
   "metadata": {},
   "outputs": [],
   "source": [
    "bank= Account()"
   ]
  },
  {
   "cell_type": "code",
   "execution_count": 16,
   "id": "d9d4ec4c",
   "metadata": {},
   "outputs": [
    {
     "name": "stdout",
     "output_type": "stream",
     "text": [
      "email idsadaf\n",
      "password1234\n",
      "user id and password invalid\n",
      "email idsadaf12\n",
      "password1234\n",
      "successfully logged in\n"
     ]
    }
   ],
   "source": [
    "bank.login()"
   ]
  },
  {
   "cell_type": "code",
   "execution_count": 29,
   "id": "62a177c9",
   "metadata": {},
   "outputs": [],
   "source": [
    "class User_Account (Account):\n",
    "    def __init__(self,acc_number,balance,*args):\n",
    "        super (User_Account,self).__init__(*args)\n",
    "        self.acc_number  = acc_number\n",
    "        self.balance     = balance\n",
    "        \n",
    "    def user_details(self):\n",
    "        while True:\n",
    "            account = int(input('enter your account number: '))\n",
    "            if account== self.acc_number:\n",
    "                print(\"Name\",self.name)\n",
    "                print(\"Account number\",self.acc_number)\n",
    "                print(\"your balance\", self.balance)\n",
    "                break   \n",
    "            else:\n",
    "                print(\"Account number is not valid\")\n",
    "                continue\n",
    "        \n",
    "    def deposit(self):\n",
    "        print(\"your previous balance=\",self.balance)\n",
    "        add_cash =int(input(\"Deposit cash\"))\n",
    "        self.balance+=add_cash\n",
    "        print(\"\\n HDFC bank:RS\",add_cash,\"deposited to your account\",self.acc_number,\"your current balance is\", self.balance)\n",
    "    def transfer(self):\n",
    "        print(\"your previous balance=\", self.balance)\n",
    "        \n",
    "        \n",
    "        \n",
    "        withdraw= int(input(\"enter the amount you want to transfer\"))\n",
    "        if withdraw<=self.balance:\n",
    "            self.balance-=withdraw\n",
    "            print('\\n HDFC BANK Rs',withdraw,'withdraw from your account', self.acc_number,'and your current balance is', self.balance)\n",
    "            \n",
    "        else:\n",
    "            print('\\n ALLERT,HELLO! you dont have sufficient balance')\n",
    "            \n",
    "                "
   ]
  },
  {
   "cell_type": "code",
   "execution_count": null,
   "id": "61956a97",
   "metadata": {},
   "outputs": [],
   "source": []
  },
  {
   "cell_type": "code",
   "execution_count": 30,
   "id": "1c87a10f",
   "metadata": {},
   "outputs": [],
   "source": [
    "bank_details=User_Account(123467,10000)"
   ]
  },
  {
   "cell_type": "code",
   "execution_count": 31,
   "id": "32cc9570",
   "metadata": {},
   "outputs": [
    {
     "name": "stdout",
     "output_type": "stream",
     "text": [
      "enter your account number: 123467\n",
      "Name sadaf\n",
      "Account number 123467\n",
      "your balance 10000\n"
     ]
    }
   ],
   "source": [
    "bank_details.user_details()"
   ]
  },
  {
   "cell_type": "code",
   "execution_count": 32,
   "id": "0dcded1d",
   "metadata": {},
   "outputs": [
    {
     "name": "stdout",
     "output_type": "stream",
     "text": [
      "your previous balance= 10000\n",
      "Deposit cash5900\n",
      "\n",
      " HDFC bank:RS 5900 deposited to your account 123467 your current balance is 15900\n"
     ]
    }
   ],
   "source": [
    "bank_details.deposit()"
   ]
  },
  {
   "cell_type": "code",
   "execution_count": 33,
   "id": "76c4be1c",
   "metadata": {},
   "outputs": [
    {
     "name": "stdout",
     "output_type": "stream",
     "text": [
      "your previous balance= 15900\n",
      "enter the amount you want to transfer2500\n",
      "\n",
      " HDFC BANK Rs 2500 withdraw from your account 123467 and your current balance is 13400\n"
     ]
    }
   ],
   "source": [
    "bank_details.transfer()\n"
   ]
  },
  {
   "cell_type": "code",
   "execution_count": null,
   "id": "bc239470",
   "metadata": {},
   "outputs": [],
   "source": [
    "encapsulation"
   ]
  },
  {
   "cell_type": "code",
   "execution_count": 36,
   "id": "9111a4a1",
   "metadata": {},
   "outputs": [
    {
     "name": "stdout",
     "output_type": "stream",
     "text": [
      "tyres:\n",
      "\tbranch: MRF\n",
      " belted_bias: True\n",
      "\\ optimal pressure: 34\n",
      "Engine \n",
      "\\ tfuel type: Petrol\n",
      "\\ tnoise level: 23\n",
      "Body :\n",
      "\\ tsize :SUV\n"
     ]
    }
   ],
   "source": [
    "class Tyres:\n",
    "    def __init__(self, branch, belted_bias,opt_pressure):\n",
    "        self.branch  = branch\n",
    "        self.belted_bias  = belted_bias\n",
    "        self.opt_pressure  = opt_pressure\n",
    "        \n",
    "    def __str__(self):\n",
    "        return('tyres:\\n\\tbranch: '+self.branch+'\\n belted_bias: '+str(self.belted_bias)+'\\n\\ optimal pressure: '+str(self.opt_pressure))\n",
    "class Engine:\n",
    "    def __init__(self,fuel_type,noise_level):\n",
    "        self.fuel_type  = fuel_type\n",
    "        self.noise_level = noise_level\n",
    "        \n",
    "    def __str__(self):\n",
    "        return('Engine \\n\\ tfuel type: '+self.fuel_type+'\\n\\ tnoise level: ' +str(self.noise_level))\n",
    "    \n",
    "class Body:\n",
    "    def __init__(self,size):\n",
    "        self.size =size\n",
    "    def __str__(self):\n",
    "        return('Body :\\n\\ tsize :'+self.size)\n",
    "    \n",
    "class Car:\n",
    "    def __init__(self,tyres,engine,body):\n",
    "        self.tyres =tyres\n",
    "        self.engine= engine\n",
    "        self.body  = body\n",
    "    def __str__(self):\n",
    "        return str(self.tyres)+'\\n'+str(self.engine)+'\\n'+str(self.body)\n",
    "\n",
    "t =Tyres( 'MRF',True,34)\n",
    "e= Engine('Petrol',23)\n",
    "b =Body('SUV')\n",
    "\n",
    "c=Car(t,e,b)\n",
    "\n",
    "print(c)\n",
    "    \n",
    "    \n",
    "    \n",
    "        "
   ]
  },
  {
   "cell_type": "code",
   "execution_count": null,
   "id": "2c73ceaf",
   "metadata": {},
   "outputs": [],
   "source": [
    "NUMPY ARRAY"
   ]
  },
  {
   "cell_type": "code",
   "execution_count": 1,
   "id": "d8ce2100",
   "metadata": {},
   "outputs": [],
   "source": [
    "import numpy as np"
   ]
  },
  {
   "cell_type": "code",
   "execution_count": 38,
   "id": "2f38c9f0",
   "metadata": {},
   "outputs": [
    {
     "name": "stdout",
     "output_type": "stream",
     "text": [
      "['ALLOW_THREADS', 'AxisError', 'BUFSIZE', 'Bytes0', 'CLIP', 'ComplexWarning', 'DataSource', 'Datetime64', 'ERR_CALL', 'ERR_DEFAULT', 'ERR_IGNORE', 'ERR_LOG', 'ERR_PRINT', 'ERR_RAISE', 'ERR_WARN', 'FLOATING_POINT_SUPPORT', 'FPE_DIVIDEBYZERO', 'FPE_INVALID', 'FPE_OVERFLOW', 'FPE_UNDERFLOW', 'False_', 'Inf', 'Infinity', 'MAXDIMS', 'MAY_SHARE_BOUNDS', 'MAY_SHARE_EXACT', 'MachAr', 'ModuleDeprecationWarning', 'NAN', 'NINF', 'NZERO', 'NaN', 'PINF', 'PZERO', 'RAISE', 'RankWarning', 'SHIFT_DIVIDEBYZERO', 'SHIFT_INVALID', 'SHIFT_OVERFLOW', 'SHIFT_UNDERFLOW', 'ScalarType', 'Str0', 'Tester', 'TooHardError', 'True_', 'UFUNC_BUFSIZE_DEFAULT', 'UFUNC_PYVALS_NAME', 'Uint64', 'VisibleDeprecationWarning', 'WRAP', '_NoValue', '_UFUNC_API', '__NUMPY_SETUP__', '__all__', '__builtins__', '__cached__', '__config__', '__deprecated_attrs__', '__dir__', '__doc__', '__expired_functions__', '__file__', '__getattr__', '__git_version__', '__loader__', '__mkl_version__', '__name__', '__package__', '__path__', '__spec__', '__version__', '_add_newdoc_ufunc', '_distributor_init', '_financial_names', '_globals', '_mat', '_pytesttester', '_version', 'abs', 'absolute', 'add', 'add_docstring', 'add_newdoc', 'add_newdoc_ufunc', 'alen', 'all', 'allclose', 'alltrue', 'amax', 'amin', 'angle', 'any', 'append', 'apply_along_axis', 'apply_over_axes', 'arange', 'arccos', 'arccosh', 'arcsin', 'arcsinh', 'arctan', 'arctan2', 'arctanh', 'argmax', 'argmin', 'argpartition', 'argsort', 'argwhere', 'around', 'array', 'array2string', 'array_equal', 'array_equiv', 'array_repr', 'array_split', 'array_str', 'asanyarray', 'asarray', 'asarray_chkfinite', 'ascontiguousarray', 'asfarray', 'asfortranarray', 'asmatrix', 'asscalar', 'atleast_1d', 'atleast_2d', 'atleast_3d', 'average', 'bartlett', 'base_repr', 'binary_repr', 'bincount', 'bitwise_and', 'bitwise_not', 'bitwise_or', 'bitwise_xor', 'blackman', 'block', 'bmat', 'bool8', 'bool_', 'broadcast', 'broadcast_arrays', 'broadcast_shapes', 'broadcast_to', 'busday_count', 'busday_offset', 'busdaycalendar', 'byte', 'byte_bounds', 'bytes0', 'bytes_', 'c_', 'can_cast', 'cast', 'cbrt', 'cdouble', 'ceil', 'cfloat', 'char', 'character', 'chararray', 'choose', 'clip', 'clongdouble', 'clongfloat', 'column_stack', 'common_type', 'compare_chararrays', 'compat', 'complex128', 'complex64', 'complex_', 'complexfloating', 'compress', 'concatenate', 'conj', 'conjugate', 'convolve', 'copy', 'copysign', 'copyto', 'core', 'corrcoef', 'correlate', 'cos', 'cosh', 'count_nonzero', 'cov', 'cross', 'csingle', 'ctypeslib', 'cumprod', 'cumproduct', 'cumsum', 'datetime64', 'datetime_as_string', 'datetime_data', 'deg2rad', 'degrees', 'delete', 'deprecate', 'deprecate_with_doc', 'diag', 'diag_indices', 'diag_indices_from', 'diagflat', 'diagonal', 'diff', 'digitize', 'disp', 'divide', 'divmod', 'dot', 'double', 'dsplit', 'dstack', 'dtype', 'e', 'ediff1d', 'einsum', 'einsum_path', 'emath', 'empty', 'empty_like', 'equal', 'errstate', 'euler_gamma', 'exp', 'exp2', 'expand_dims', 'expm1', 'extract', 'eye', 'fabs', 'fastCopyAndTranspose', 'fft', 'fill_diagonal', 'find_common_type', 'finfo', 'fix', 'flatiter', 'flatnonzero', 'flexible', 'flip', 'fliplr', 'flipud', 'float16', 'float32', 'float64', 'float_', 'float_power', 'floating', 'floor', 'floor_divide', 'fmax', 'fmin', 'fmod', 'format_float_positional', 'format_float_scientific', 'format_parser', 'frexp', 'frombuffer', 'fromfile', 'fromfunction', 'fromiter', 'frompyfunc', 'fromregex', 'fromstring', 'full', 'full_like', 'gcd', 'generic', 'genfromtxt', 'geomspace', 'get_array_wrap', 'get_include', 'get_printoptions', 'getbufsize', 'geterr', 'geterrcall', 'geterrobj', 'gradient', 'greater', 'greater_equal', 'half', 'hamming', 'hanning', 'heaviside', 'histogram', 'histogram2d', 'histogram_bin_edges', 'histogramdd', 'hsplit', 'hstack', 'hypot', 'i0', 'identity', 'iinfo', 'imag', 'in1d', 'index_exp', 'indices', 'inexact', 'inf', 'info', 'infty', 'inner', 'insert', 'int0', 'int16', 'int32', 'int64', 'int8', 'int_', 'intc', 'integer', 'interp', 'intersect1d', 'intp', 'invert', 'is_busday', 'isclose', 'iscomplex', 'iscomplexobj', 'isfinite', 'isfortran', 'isin', 'isinf', 'isnan', 'isnat', 'isneginf', 'isposinf', 'isreal', 'isrealobj', 'isscalar', 'issctype', 'issubclass_', 'issubdtype', 'issubsctype', 'iterable', 'ix_', 'kaiser', 'kron', 'lcm', 'ldexp', 'left_shift', 'less', 'less_equal', 'lexsort', 'lib', 'linalg', 'linspace', 'little_endian', 'load', 'loads', 'loadtxt', 'log', 'log10', 'log1p', 'log2', 'logaddexp', 'logaddexp2', 'logical_and', 'logical_not', 'logical_or', 'logical_xor', 'logspace', 'longcomplex', 'longdouble', 'longfloat', 'longlong', 'lookfor', 'ma', 'mafromtxt', 'mask_indices', 'mat', 'math', 'matmul', 'matrix', 'matrixlib', 'max', 'maximum', 'maximum_sctype', 'may_share_memory', 'mean', 'median', 'memmap', 'meshgrid', 'mgrid', 'min', 'min_scalar_type', 'minimum', 'mintypecode', 'mkl', 'mod', 'modf', 'moveaxis', 'msort', 'multiply', 'nan', 'nan_to_num', 'nanargmax', 'nanargmin', 'nancumprod', 'nancumsum', 'nanmax', 'nanmean', 'nanmedian', 'nanmin', 'nanpercentile', 'nanprod', 'nanquantile', 'nanstd', 'nansum', 'nanvar', 'nbytes', 'ndarray', 'ndenumerate', 'ndfromtxt', 'ndim', 'ndindex', 'nditer', 'negative', 'nested_iters', 'newaxis', 'nextafter', 'nonzero', 'not_equal', 'numarray', 'number', 'obj2sctype', 'object0', 'object_', 'ogrid', 'oldnumeric', 'ones', 'ones_like', 'os', 'outer', 'packbits', 'pad', 'partition', 'percentile', 'pi', 'piecewise', 'place', 'poly', 'poly1d', 'polyadd', 'polyder', 'polydiv', 'polyfit', 'polyint', 'polymul', 'polynomial', 'polysub', 'polyval', 'positive', 'power', 'printoptions', 'prod', 'product', 'promote_types', 'ptp', 'put', 'put_along_axis', 'putmask', 'quantile', 'r_', 'rad2deg', 'radians', 'random', 'ravel', 'ravel_multi_index', 'real', 'real_if_close', 'rec', 'recarray', 'recfromcsv', 'recfromtxt', 'reciprocal', 'record', 'remainder', 'repeat', 'require', 'reshape', 'resize', 'result_type', 'right_shift', 'rint', 'roll', 'rollaxis', 'roots', 'rot90', 'round', 'round_', 'row_stack', 's_', 'safe_eval', 'save', 'savetxt', 'savez', 'savez_compressed', 'sctype2char', 'sctypeDict', 'sctypes', 'searchsorted', 'select', 'set_numeric_ops', 'set_printoptions', 'set_string_function', 'setbufsize', 'setdiff1d', 'seterr', 'seterrcall', 'seterrobj', 'setxor1d', 'shape', 'shares_memory', 'short', 'show_config', 'sign', 'signbit', 'signedinteger', 'sin', 'sinc', 'single', 'singlecomplex', 'sinh', 'size', 'sometrue', 'sort', 'sort_complex', 'source', 'spacing', 'split', 'sqrt', 'square', 'squeeze', 'stack', 'std', 'str0', 'str_', 'string_', 'subtract', 'sum', 'swapaxes', 'sys', 'take', 'take_along_axis', 'tan', 'tanh', 'tensordot', 'test', 'testing', 'tile', 'timedelta64', 'trace', 'tracemalloc_domain', 'transpose', 'trapz', 'tri', 'tril', 'tril_indices', 'tril_indices_from', 'trim_zeros', 'triu', 'triu_indices', 'triu_indices_from', 'true_divide', 'trunc', 'typecodes', 'typename', 'ubyte', 'ufunc', 'uint', 'uint0', 'uint16', 'uint32', 'uint64', 'uint8', 'uintc', 'uintp', 'ulonglong', 'unicode_', 'union1d', 'unique', 'unpackbits', 'unravel_index', 'unsignedinteger', 'unwrap', 'use_hugepage', 'ushort', 'vander', 'var', 'vdot', 'vectorize', 'version', 'void', 'void0', 'vsplit', 'vstack', 'warnings', 'where', 'who', 'zeros', 'zeros_like']\n"
     ]
    }
   ],
   "source": [
    "print (dir(np))"
   ]
  },
  {
   "cell_type": "code",
   "execution_count": 39,
   "id": "b0e62144",
   "metadata": {},
   "outputs": [
    {
     "data": {
      "text/plain": [
       "324"
      ]
     },
     "execution_count": 39,
     "metadata": {},
     "output_type": "execute_result"
    }
   ],
   "source": [
    "np.dot([3,4],[4,78])"
   ]
  },
  {
   "cell_type": "code",
   "execution_count": 40,
   "id": "afd87a7f",
   "metadata": {},
   "outputs": [
    {
     "data": {
      "text/plain": [
       "6.708203932499369"
      ]
     },
     "execution_count": 40,
     "metadata": {},
     "output_type": "execute_result"
    }
   ],
   "source": [
    "np.sqrt(45)"
   ]
  },
  {
   "cell_type": "code",
   "execution_count": 41,
   "id": "2e31d7e8",
   "metadata": {},
   "outputs": [
    {
     "data": {
      "text/plain": [
       "25"
      ]
     },
     "execution_count": 41,
     "metadata": {},
     "output_type": "execute_result"
    }
   ],
   "source": [
    "np.square(5)"
   ]
  },
  {
   "cell_type": "code",
   "execution_count": 42,
   "id": "ae3341ea",
   "metadata": {},
   "outputs": [
    {
     "data": {
      "text/plain": [
       "14"
      ]
     },
     "execution_count": 42,
     "metadata": {},
     "output_type": "execute_result"
    }
   ],
   "source": [
    "np.min([23,67,89,67,21,20,14])"
   ]
  },
  {
   "cell_type": "code",
   "execution_count": 43,
   "id": "29a70c57",
   "metadata": {},
   "outputs": [
    {
     "data": {
      "text/plain": [
       "99"
      ]
     },
     "execution_count": 43,
     "metadata": {},
     "output_type": "execute_result"
    }
   ],
   "source": [
    "np.max([67,99,78,65])"
   ]
  },
  {
   "cell_type": "code",
   "execution_count": 44,
   "id": "536b4ad2",
   "metadata": {},
   "outputs": [
    {
     "data": {
      "text/plain": [
       "66.0"
      ]
     },
     "execution_count": 44,
     "metadata": {},
     "output_type": "execute_result"
    }
   ],
   "source": [
    "np.ceil(65.8976)"
   ]
  },
  {
   "cell_type": "code",
   "execution_count": 46,
   "id": "c7d0e9a3",
   "metadata": {},
   "outputs": [],
   "source": [
    "a=np.array([5,8,9,0])"
   ]
  },
  {
   "cell_type": "code",
   "execution_count": 47,
   "id": "7eb19d7c",
   "metadata": {},
   "outputs": [
    {
     "data": {
      "text/plain": [
       "numpy.ndarray"
      ]
     },
     "execution_count": 47,
     "metadata": {},
     "output_type": "execute_result"
    }
   ],
   "source": [
    "type(a)"
   ]
  },
  {
   "cell_type": "code",
   "execution_count": 53,
   "id": "5920666b",
   "metadata": {},
   "outputs": [
    {
     "name": "stdout",
     "output_type": "stream",
     "text": [
      "[5 8 9 0]\n"
     ]
    }
   ],
   "source": [
    "b=np.asarray(a) # copy  array as array\n",
    "print(b)"
   ]
  },
  {
   "cell_type": "code",
   "execution_count": 54,
   "id": "fed59d18",
   "metadata": {},
   "outputs": [
    {
     "data": {
      "text/plain": [
       "array([1., 3., 6.])"
      ]
     },
     "execution_count": 54,
     "metadata": {},
     "output_type": "execute_result"
    }
   ],
   "source": [
    "np.array([1,3,6] , dtype=float)"
   ]
  },
  {
   "cell_type": "code",
   "execution_count": 55,
   "id": "e1c3a04c",
   "metadata": {},
   "outputs": [
    {
     "name": "stdout",
     "output_type": "stream",
     "text": [
      "type class: <class 'numpy.ndarray'>\n",
      "here is the matrix\n",
      "----\n",
      " [[1 2 3]\n",
      " [4 5 6]\n",
      " [7 8 9]] \n",
      "-----\n",
      "\n",
      "dimension of matrix: 2\n",
      "size: 9\n",
      "shape: (3, 3)\n",
      "data type: int32\n"
     ]
    }
   ],
   "source": [
    "my_mat=[[1,2,3],[4,5,6],[7,8,9]]\n",
    "mat=np.array(my_mat)\n",
    "print('type class:',type(mat))\n",
    "print('here is the matrix\\n----\\n',mat,'\\n-----\\n')\n",
    "print('dimension of matrix:',mat.ndim)\n",
    "print('size:',mat.size)\n",
    "print('shape:',mat.shape)\n",
    "print('data type:',mat.dtype)"
   ]
  },
  {
   "cell_type": "code",
   "execution_count": 57,
   "id": "22369254",
   "metadata": {},
   "outputs": [
    {
     "name": "stdout",
     "output_type": "stream",
     "text": [
      "[ 2.   2.6  3.2  3.8  4.4  5.   5.6  6.2  6.8  7.4  8.   8.6  9.2  9.8\n",
      " 10.4]\n"
     ]
    }
   ],
   "source": [
    "a= np.arange(2,10.5,.6)\n",
    "print(a)"
   ]
  },
  {
   "cell_type": "code",
   "execution_count": 58,
   "id": "c84c7fc7",
   "metadata": {},
   "outputs": [
    {
     "data": {
      "text/plain": [
       "array([10.4,  9.8,  9.2,  8.6,  8. ,  7.4,  6.8,  6.2,  5.6,  5. ,  4.4,\n",
       "        3.8,  3.2,  2.6,  2. ])"
      ]
     },
     "execution_count": 58,
     "metadata": {},
     "output_type": "execute_result"
    }
   ],
   "source": [
    "a[ : :-1] # reverse order"
   ]
  },
  {
   "cell_type": "code",
   "execution_count": 59,
   "id": "80250777",
   "metadata": {},
   "outputs": [
    {
     "data": {
      "text/plain": [
       "array([50, 45, 40, 35, 30, 25, 20, 15, 10,  5,  0])"
      ]
     },
     "execution_count": 59,
     "metadata": {},
     "output_type": "execute_result"
    }
   ],
   "source": [
    "np.arange(50,-1,-5) #every 5th no from 50 in reverse order"
   ]
  },
  {
   "cell_type": "code",
   "execution_count": 61,
   "id": "e75d1065",
   "metadata": {},
   "outputs": [
    {
     "data": {
      "text/plain": [
       "array([10. , 17.5, 25. , 32.5, 40. ])"
      ]
     },
     "execution_count": 61,
     "metadata": {},
     "output_type": "execute_result"
    }
   ],
   "source": [
    "np.linspace(10,40,5) # linearly seperable"
   ]
  },
  {
   "cell_type": "code",
   "execution_count": 5,
   "id": "cd6362c4",
   "metadata": {},
   "outputs": [
    {
     "data": {
      "text/plain": [
       "(array([2.  , 2.25, 2.5 , 2.75]), 0.25)"
      ]
     },
     "execution_count": 5,
     "metadata": {},
     "output_type": "execute_result"
    }
   ],
   "source": [
    "np.linspace(2.0,3.0,num=4,endpoint=False,retstep=True)"
   ]
  },
  {
   "cell_type": "code",
   "execution_count": 2,
   "id": "6bcc034d",
   "metadata": {},
   "outputs": [
    {
     "data": {
      "text/plain": [
       "(array([2.        , 2.33333333, 2.66666667, 3.        ]), 0.3333333333333333)"
      ]
     },
     "execution_count": 2,
     "metadata": {},
     "output_type": "execute_result"
    }
   ],
   "source": [
    "np.linspace(2.0,3.0,num=4,endpoint=True,retstep=True)"
   ]
  },
  {
   "cell_type": "code",
   "execution_count": 8,
   "id": "2bd54b3b",
   "metadata": {},
   "outputs": [
    {
     "data": {
      "text/plain": [
       "(array([3.897655  , 4.37041625, 4.8431775 , 5.31593875, 5.7887    ]),\n",
       " 0.47276125000000013)"
      ]
     },
     "execution_count": 8,
     "metadata": {},
     "output_type": "execute_result"
    }
   ],
   "source": [
    "np.linspace(3.897655,5.7887,5,retstep=True)"
   ]
  },
  {
   "cell_type": "markdown",
   "id": "170021a1",
   "metadata": {},
   "source": [
    "# MATRIX CREATION"
   ]
  },
  {
   "cell_type": "code",
   "execution_count": 9,
   "id": "395289e9",
   "metadata": {},
   "outputs": [
    {
     "data": {
      "text/plain": [
       "array([0., 0., 0., 0., 0.])"
      ]
     },
     "execution_count": 9,
     "metadata": {},
     "output_type": "execute_result"
    }
   ],
   "source": [
    "np.zeros(5)"
   ]
  },
  {
   "cell_type": "code",
   "execution_count": 12,
   "id": "82c86cbc",
   "metadata": {},
   "outputs": [
    {
     "data": {
      "text/plain": [
       "array([[67., 67., 67., 67., 67.],\n",
       "       [67., 67., 67., 67., 67.],\n",
       "       [67., 67., 67., 67., 67.],\n",
       "       [67., 67., 67., 67., 67.],\n",
       "       [67., 67., 67., 67., 67.],\n",
       "       [67., 67., 67., 67., 67.]])"
      ]
     },
     "execution_count": 12,
     "metadata": {},
     "output_type": "execute_result"
    }
   ],
   "source": [
    "67*np.ones((6,5))"
   ]
  },
  {
   "cell_type": "code",
   "execution_count": 14,
   "id": "4b72819a",
   "metadata": {},
   "outputs": [
    {
     "data": {
      "text/plain": [
       "array([[ 0,  1,  2,  3,  4],\n",
       "       [ 5,  6,  7,  8,  9],\n",
       "       [10, 11, 12, 13, 14],\n",
       "       [15, 16, 17, 18, 19],\n",
       "       [20, 21, 22, 23, 24],\n",
       "       [25, 26, 27, 28, 29]])"
      ]
     },
     "execution_count": 14,
     "metadata": {},
     "output_type": "execute_result"
    }
   ],
   "source": [
    "np.arange(30).reshape(6,5)"
   ]
  },
  {
   "cell_type": "code",
   "execution_count": 20,
   "id": "8b4ed69d",
   "metadata": {},
   "outputs": [
    {
     "data": {
      "text/plain": [
       "array([[0.96702984, 0.54723225, 0.97268436],\n",
       "       [0.71481599, 0.69772882, 0.2160895 ],\n",
       "       [0.97627445, 0.00623026, 0.25298236]])"
      ]
     },
     "execution_count": 20,
     "metadata": {},
     "output_type": "execute_result"
    }
   ],
   "source": [
    "np.random.seed(4)\n",
    "np.random.rand(3,3)# uniform distribution"
   ]
  },
  {
   "cell_type": "code",
   "execution_count": 22,
   "id": "4518f133",
   "metadata": {},
   "outputs": [
    {
     "data": {
      "text/plain": [
       "array([[ 0.20218012,  0.16951775, -0.71522547],\n",
       "       [ 0.52533388, -0.74738768,  0.74981904],\n",
       "       [-2.4598148 ,  0.03600369,  0.72612944]])"
      ]
     },
     "execution_count": 22,
     "metadata": {},
     "output_type": "execute_result"
    }
   ],
   "source": [
    "np.random.randn(3,3)# normal distribution"
   ]
  },
  {
   "cell_type": "code",
   "execution_count": 24,
   "id": "7934ec9e",
   "metadata": {},
   "outputs": [
    {
     "data": {
      "text/plain": [
       "array([12, 14, 21, 20,  9, 16, 13, 10, 13, 12])"
      ]
     },
     "execution_count": 24,
     "metadata": {},
     "output_type": "execute_result"
    }
   ],
   "source": [
    "np.random.randint(5,23,10)  #used to generate otp"
   ]
  },
  {
   "cell_type": "code",
   "execution_count": 25,
   "id": "70dafc68",
   "metadata": {},
   "outputs": [
    {
     "name": "stdout",
     "output_type": "stream",
     "text": [
      "your opt is  [8652]\n",
      "enter the otp56788\n",
      "invalid otp\n",
      "your opt is  [7687]\n",
      "enter the otp7687\n",
      "login successful\n"
     ]
    }
   ],
   "source": [
    "while True:\n",
    "    otp= np.random.randint(1000,10000,1)\n",
    "    print( 'your opt is ',otp)\n",
    "    user_otp= int(input('enter the otp'))\n",
    "    if otp==user_otp:\n",
    "        print('login successful')\n",
    "        break\n",
    "    else:\n",
    "        print('invalid otp')\n",
    "        continue"
   ]
  },
  {
   "cell_type": "code",
   "execution_count": 1,
   "id": "dcf69b27",
   "metadata": {},
   "outputs": [],
   "source": [
    "from numpy.random import randint as ri"
   ]
  },
  {
   "cell_type": "code",
   "execution_count": 15,
   "id": "96dd891d",
   "metadata": {},
   "outputs": [
    {
     "name": "stdout",
     "output_type": "stream",
     "text": [
      "[[22 21 34 43 80]\n",
      " [27 71 78 38 35]\n",
      " [84 94  4 48 65]\n",
      " [10  5 80 99 76]\n",
      " [ 5 69 32 82 42]]\n"
     ]
    }
   ],
   "source": [
    "m=ri(1,100,25).reshape(5,5)\n",
    "print(m)"
   ]
  },
  {
   "cell_type": "code",
   "execution_count": 6,
   "id": "3e35e53f",
   "metadata": {},
   "outputs": [
    {
     "data": {
      "text/plain": [
       "array([[18, 45, 55, 60, 97],\n",
       "       [32, 66, 78, 95, 96],\n",
       "       [10, 25, 54, 67, 75],\n",
       "       [36, 48, 70, 76, 92],\n",
       "       [ 4, 47, 56, 56, 67]])"
      ]
     },
     "execution_count": 6,
     "metadata": {},
     "output_type": "execute_result"
    }
   ],
   "source": [
    "np.sort(m)"
   ]
  },
  {
   "cell_type": "code",
   "execution_count": null,
   "id": "807ff970",
   "metadata": {},
   "outputs": [],
   "source": [
    "np.sort(m,axis=0)# column wise sorting"
   ]
  },
  {
   "cell_type": "code",
   "execution_count": 13,
   "id": "d20cc6a5",
   "metadata": {},
   "outputs": [
    {
     "name": "stdout",
     "output_type": "stream",
     "text": [
      "4 97\n"
     ]
    }
   ],
   "source": [
    "print(m.min(), m.max())"
   ]
  },
  {
   "cell_type": "code",
   "execution_count": 17,
   "id": "db1b8777",
   "metadata": {},
   "outputs": [
    {
     "data": {
      "text/plain": [
       "array([33,  8, 41, 28, 56, 11,  9, 25, 33, 34])"
      ]
     },
     "execution_count": 17,
     "metadata": {},
     "output_type": "execute_result"
    }
   ],
   "source": [
    "emp_sal= ri(8,70,10)\n",
    "emp_sal"
   ]
  },
  {
   "cell_type": "code",
   "execution_count": 18,
   "id": "164c718a",
   "metadata": {},
   "outputs": [
    {
     "data": {
      "text/plain": [
       "(array([1, 5, 6], dtype=int64),)"
      ]
     },
     "execution_count": 18,
     "metadata": {},
     "output_type": "execute_result"
    }
   ],
   "source": [
    "np.where(emp_sal<25) # will give the index"
   ]
  },
  {
   "cell_type": "code",
   "execution_count": 19,
   "id": "f6361e0c",
   "metadata": {},
   "outputs": [
    {
     "data": {
      "text/plain": [
       "array([ 8, 11,  9])"
      ]
     },
     "execution_count": 19,
     "metadata": {},
     "output_type": "execute_result"
    }
   ],
   "source": [
    "emp_sal[np.where(emp_sal<25)] # wll give the actual data"
   ]
  },
  {
   "cell_type": "code",
   "execution_count": 20,
   "id": "1590a335",
   "metadata": {},
   "outputs": [
    {
     "data": {
      "text/plain": [
       "array([33, 15, 41, 28, 50, 15, 15, 25, 33, 34])"
      ]
     },
     "execution_count": 20,
     "metadata": {},
     "output_type": "execute_result"
    }
   ],
   "source": [
    "np.clip(emp_sal,a_min=15, a_max=50)# set min and max using a_min, a_max"
   ]
  },
  {
   "cell_type": "code",
   "execution_count": null,
   "id": "9ced9f6c",
   "metadata": {},
   "outputs": [],
   "source": [
    "INDEXING AND SLICING"
   ]
  },
  {
   "cell_type": "code",
   "execution_count": 25,
   "id": "2bf7bddf",
   "metadata": {},
   "outputs": [
    {
     "name": "stdout",
     "output_type": "stream",
     "text": [
      "Array [13 14 15 16 17 18 19 20 21 22 23 24 25 26 27 28 29]\n",
      "element in 7th indexis: 20\n"
     ]
    },
    {
     "data": {
      "text/plain": [
       "array([15, 17, 21, 23])"
      ]
     },
     "execution_count": 25,
     "metadata": {},
     "output_type": "execute_result"
    }
   ],
   "source": [
    "arr=np.arange(13,30)\n",
    "print(\"Array\",arr)\n",
    "print('element in 7th indexis:',arr[7])\n",
    "arr[[2,4,8,10]]"
   ]
  },
  {
   "cell_type": "code",
   "execution_count": 26,
   "id": "30384308",
   "metadata": {},
   "outputs": [
    {
     "data": {
      "text/plain": [
       "array([[1, 2, 3],\n",
       "       [4, 5, 6],\n",
       "       [7, 8, 9]])"
      ]
     },
     "execution_count": 26,
     "metadata": {},
     "output_type": "execute_result"
    }
   ],
   "source": [
    "a=[[1,2,3],[4,5,6],[7,8,9]]\n",
    "mat=np.array(a)\n",
    "mat"
   ]
  },
  {
   "cell_type": "code",
   "execution_count": 27,
   "id": "fbe18f28",
   "metadata": {},
   "outputs": [
    {
     "data": {
      "text/plain": [
       "array([4, 6])"
      ]
     },
     "execution_count": 27,
     "metadata": {},
     "output_type": "execute_result"
    }
   ],
   "source": [
    "mat[1,[0,2]] # 1 st row then column selection"
   ]
  },
  {
   "cell_type": "code",
   "execution_count": 28,
   "id": "d78a7318",
   "metadata": {},
   "outputs": [
    {
     "data": {
      "text/plain": [
       "array([4, 5, 6])"
      ]
     },
     "execution_count": 28,
     "metadata": {},
     "output_type": "execute_result"
    }
   ],
   "source": [
    "mat[1]"
   ]
  },
  {
   "cell_type": "code",
   "execution_count": 29,
   "id": "8064e942",
   "metadata": {},
   "outputs": [
    {
     "data": {
      "text/plain": [
       "array([[2, 3],\n",
       "       [5, 6],\n",
       "       [8, 9]])"
      ]
     },
     "execution_count": 29,
     "metadata": {},
     "output_type": "execute_result"
    }
   ],
   "source": [
    "mat[ : ,1:]"
   ]
  },
  {
   "cell_type": "code",
   "execution_count": 30,
   "id": "155e0ddc",
   "metadata": {},
   "outputs": [
    {
     "data": {
      "text/plain": [
       "array([[5],\n",
       "       [8]])"
      ]
     },
     "execution_count": 30,
     "metadata": {},
     "output_type": "execute_result"
    }
   ],
   "source": [
    "mat[1:3,1:2]"
   ]
  },
  {
   "cell_type": "code",
   "execution_count": 31,
   "id": "a0343922",
   "metadata": {},
   "outputs": [
    {
     "data": {
      "text/plain": [
       "array([[ 1, 35,  3],\n",
       "       [ 4,  5,  6],\n",
       "       [ 7,  8, 10]])"
      ]
     },
     "execution_count": 31,
     "metadata": {},
     "output_type": "execute_result"
    }
   ],
   "source": [
    "mat[0,1]=35 #update matrix\n",
    "mat[2,2]=10\n",
    "mat"
   ]
  },
  {
   "cell_type": "code",
   "execution_count": 32,
   "id": "2292461d",
   "metadata": {},
   "outputs": [
    {
     "data": {
      "text/plain": [
       "array([[ 1, 35,  3],\n",
       "       [ 4,  5,  6],\n",
       "       [ 7,  8, 10]])"
      ]
     },
     "execution_count": 32,
     "metadata": {},
     "output_type": "execute_result"
    }
   ],
   "source": [
    "mat"
   ]
  },
  {
   "cell_type": "code",
   "execution_count": 33,
   "id": "7f01542f",
   "metadata": {},
   "outputs": [
    {
     "data": {
      "text/plain": [
       "array([[81, 15, 25, 83, 36],\n",
       "       [11, 16, 64, 77, 54],\n",
       "       [46, 59, 74, 83, 10]])"
      ]
     },
     "execution_count": 33,
     "metadata": {},
     "output_type": "execute_result"
    }
   ],
   "source": [
    "#subsetting\n",
    "mat=np.array(ri(10,100,15)).reshape(3,5)\n",
    "mat"
   ]
  },
  {
   "cell_type": "code",
   "execution_count": 34,
   "id": "da892a23",
   "metadata": {},
   "outputs": [
    {
     "data": {
      "text/plain": [
       "array([[ True, False, False,  True, False],\n",
       "       [False, False,  True,  True,  True],\n",
       "       [False,  True,  True,  True, False]])"
      ]
     },
     "execution_count": 34,
     "metadata": {},
     "output_type": "execute_result"
    }
   ],
   "source": [
    "mat>50"
   ]
  },
  {
   "cell_type": "code",
   "execution_count": 35,
   "id": "4578b608",
   "metadata": {},
   "outputs": [
    {
     "data": {
      "text/plain": [
       "array([81, 83, 64, 77, 54, 59, 74, 83])"
      ]
     },
     "execution_count": 35,
     "metadata": {},
     "output_type": "execute_result"
    }
   ],
   "source": [
    "mat[mat>50]"
   ]
  },
  {
   "cell_type": "code",
   "execution_count": 37,
   "id": "a17b30f1",
   "metadata": {},
   "outputs": [
    {
     "data": {
      "text/plain": [
       "array('fail', dtype='<U4')"
      ]
     },
     "execution_count": 37,
     "metadata": {},
     "output_type": "execute_result"
    }
   ],
   "source": [
    "mat=70\n",
    "np.where(mat<68,'pass','fail')"
   ]
  },
  {
   "cell_type": "code",
   "execution_count": 40,
   "id": "eca99d57",
   "metadata": {},
   "outputs": [
    {
     "name": "stdout",
     "output_type": "stream",
     "text": [
      "97\n",
      "[-10  -4  18  -7   8  47  -2  26   8   0   9  40  -6  -3  20   6  42   6\n",
      "  33   0   9  28  27  -6  25  36   4   5  36   2  19  40  41  26  19   9\n",
      "  20  35  42  13  47  38  27  21   8   1  34  34  31  10  37  -3  22  49\n",
      "  27  30  48  32  13  -2  35  -3  48  19  -1  43  17  39   4  46  14   2\n",
      "  -6   4  29 -10  47  40  48  41  21   8   2  46  26   4  12   4  -6  29\n",
      "  18  -8  29   9  41   6  46  -5   0   8]\n"
     ]
    }
   ],
   "source": [
    "a=ri(-10,50,100)\n",
    "b=np.count_nonzero(a)\n",
    "print(b)\n",
    "print(a)"
   ]
  },
  {
   "cell_type": "code",
   "execution_count": 44,
   "id": "e2c30352",
   "metadata": {},
   "outputs": [
    {
     "name": "stdout",
     "output_type": "stream",
     "text": [
      "[[ 3 18 17  2]\n",
      " [15 14 19 13]\n",
      " [14 17 16 15]]\n"
     ]
    },
    {
     "data": {
      "text/plain": [
       "array([ 3, 18, 17,  2, 15, 14, 19, 13, 14, 17, 16, 15])"
      ]
     },
     "execution_count": 44,
     "metadata": {},
     "output_type": "execute_result"
    }
   ],
   "source": [
    "a=np.random.randint(0,20,size=(3,4))\n",
    "print(a)\n",
    "a.ravel()\n"
   ]
  },
  {
   "cell_type": "code",
   "execution_count": 46,
   "id": "66b75646",
   "metadata": {},
   "outputs": [
    {
     "name": "stdout",
     "output_type": "stream",
     "text": [
      "[[6 1 2]\n",
      " [9 8 1]\n",
      " [7 5 3]]\n",
      "[[9 3 6]\n",
      " [1 1 8]\n",
      " [6 6 6]]\n",
      "[[15  4  8]\n",
      " [10  9  9]\n",
      " [13 11  9]] a\n",
      "[[54  3 12]\n",
      " [ 9  8  8]\n",
      " [42 30 18]] b\n"
     ]
    }
   ],
   "source": [
    "#universal function\n",
    "mat1= np.array(ri(1,10,9)).reshape(3,3)\n",
    "mat2= np.array(ri(1,10,9)).reshape(3,3)\n",
    "print(mat1)\n",
    "print(mat2)\n",
    "print(mat1+mat2,'a')\n",
    "print(mat1*mat2,'b')"
   ]
  },
  {
   "cell_type": "code",
   "execution_count": null,
   "id": "1e2f68f9",
   "metadata": {},
   "outputs": [],
   "source": []
  },
  {
   "cell_type": "code",
   "execution_count": null,
   "id": "188f68b2",
   "metadata": {},
   "outputs": [],
   "source": []
  },
  {
   "cell_type": "code",
   "execution_count": null,
   "id": "e257f2a3",
   "metadata": {},
   "outputs": [],
   "source": []
  },
  {
   "cell_type": "code",
   "execution_count": null,
   "id": "4127bb47",
   "metadata": {},
   "outputs": [],
   "source": []
  },
  {
   "cell_type": "code",
   "execution_count": null,
   "id": "0089f6f3",
   "metadata": {},
   "outputs": [],
   "source": []
  },
  {
   "cell_type": "code",
   "execution_count": null,
   "id": "d4f47c69",
   "metadata": {},
   "outputs": [],
   "source": []
  },
  {
   "cell_type": "code",
   "execution_count": null,
   "id": "03c8d658",
   "metadata": {},
   "outputs": [],
   "source": []
  },
  {
   "cell_type": "code",
   "execution_count": null,
   "id": "4b9c1547",
   "metadata": {},
   "outputs": [],
   "source": []
  },
  {
   "cell_type": "code",
   "execution_count": null,
   "id": "c7c3e7c4",
   "metadata": {},
   "outputs": [],
   "source": []
  },
  {
   "cell_type": "code",
   "execution_count": null,
   "id": "8a3e307f",
   "metadata": {},
   "outputs": [],
   "source": [
    "d"
   ]
  }
 ],
 "metadata": {
  "kernelspec": {
   "display_name": "Python 3 (ipykernel)",
   "language": "python",
   "name": "python3"
  },
  "language_info": {
   "codemirror_mode": {
    "name": "ipython",
    "version": 3
   },
   "file_extension": ".py",
   "mimetype": "text/x-python",
   "name": "python",
   "nbconvert_exporter": "python",
   "pygments_lexer": "ipython3",
   "version": "3.9.13"
  }
 },
 "nbformat": 4,
 "nbformat_minor": 5
}
